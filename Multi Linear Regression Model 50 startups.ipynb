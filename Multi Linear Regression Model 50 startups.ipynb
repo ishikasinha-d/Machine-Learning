{
 "cells": [
  {
   "cell_type": "code",
   "execution_count": 1,
   "metadata": {},
   "outputs": [],
   "source": [
    "import pandas as pd\n",
    "import numpy as np"
   ]
  },
  {
   "cell_type": "code",
   "execution_count": 2,
   "metadata": {},
   "outputs": [],
   "source": [
    "dataset=pd.read_csv(\"50_Startups.csv\")\n",
    "# dataset.info\n"
   ]
  },
  {
   "cell_type": "code",
   "execution_count": 3,
   "metadata": {},
   "outputs": [
    {
     "data": {
      "text/html": [
       "<div>\n",
       "<style scoped>\n",
       "    .dataframe tbody tr th:only-of-type {\n",
       "        vertical-align: middle;\n",
       "    }\n",
       "\n",
       "    .dataframe tbody tr th {\n",
       "        vertical-align: top;\n",
       "    }\n",
       "\n",
       "    .dataframe thead th {\n",
       "        text-align: right;\n",
       "    }\n",
       "</style>\n",
       "<table border=\"1\" class=\"dataframe\">\n",
       "  <thead>\n",
       "    <tr style=\"text-align: right;\">\n",
       "      <th></th>\n",
       "      <th>R&amp;D Spend</th>\n",
       "      <th>Administration</th>\n",
       "      <th>Marketing Spend</th>\n",
       "      <th>State</th>\n",
       "      <th>Profit</th>\n",
       "    </tr>\n",
       "  </thead>\n",
       "  <tbody>\n",
       "    <tr>\n",
       "      <th>0</th>\n",
       "      <td>165349.20</td>\n",
       "      <td>136897.80</td>\n",
       "      <td>471784.10</td>\n",
       "      <td>New York</td>\n",
       "      <td>192261.83</td>\n",
       "    </tr>\n",
       "    <tr>\n",
       "      <th>1</th>\n",
       "      <td>162597.70</td>\n",
       "      <td>151377.59</td>\n",
       "      <td>443898.53</td>\n",
       "      <td>California</td>\n",
       "      <td>191792.06</td>\n",
       "    </tr>\n",
       "    <tr>\n",
       "      <th>2</th>\n",
       "      <td>153441.51</td>\n",
       "      <td>101145.55</td>\n",
       "      <td>407934.54</td>\n",
       "      <td>Florida</td>\n",
       "      <td>191050.39</td>\n",
       "    </tr>\n",
       "    <tr>\n",
       "      <th>3</th>\n",
       "      <td>144372.41</td>\n",
       "      <td>118671.85</td>\n",
       "      <td>383199.62</td>\n",
       "      <td>New York</td>\n",
       "      <td>182901.99</td>\n",
       "    </tr>\n",
       "    <tr>\n",
       "      <th>4</th>\n",
       "      <td>142107.34</td>\n",
       "      <td>91391.77</td>\n",
       "      <td>366168.42</td>\n",
       "      <td>Florida</td>\n",
       "      <td>166187.94</td>\n",
       "    </tr>\n",
       "  </tbody>\n",
       "</table>\n",
       "</div>"
      ],
      "text/plain": [
       "   R&D Spend  Administration  Marketing Spend       State     Profit\n",
       "0  165349.20       136897.80        471784.10    New York  192261.83\n",
       "1  162597.70       151377.59        443898.53  California  191792.06\n",
       "2  153441.51       101145.55        407934.54     Florida  191050.39\n",
       "3  144372.41       118671.85        383199.62    New York  182901.99\n",
       "4  142107.34        91391.77        366168.42     Florida  166187.94"
      ]
     },
     "execution_count": 3,
     "metadata": {},
     "output_type": "execute_result"
    }
   ],
   "source": [
    "dataset.head()"
   ]
  },
  {
   "cell_type": "code",
   "execution_count": 4,
   "metadata": {},
   "outputs": [
    {
     "data": {
      "text/plain": [
       "Index(['R&D Spend', 'Administration', 'Marketing Spend', 'State', 'Profit'], dtype='object')"
      ]
     },
     "execution_count": 4,
     "metadata": {},
     "output_type": "execute_result"
    }
   ],
   "source": [
    "dataset.columns"
   ]
  },
  {
   "cell_type": "code",
   "execution_count": 5,
   "metadata": {},
   "outputs": [],
   "source": [
    "y=dataset['Profit']"
   ]
  },
  {
   "cell_type": "code",
   "execution_count": 6,
   "metadata": {},
   "outputs": [
    {
     "data": {
      "text/plain": [
       "pandas.core.series.Series"
      ]
     },
     "execution_count": 6,
     "metadata": {},
     "output_type": "execute_result"
    }
   ],
   "source": [
    "type(y)"
   ]
  },
  {
   "cell_type": "code",
   "execution_count": 7,
   "metadata": {},
   "outputs": [
    {
     "data": {
      "text/plain": [
       "numpy.ndarray"
      ]
     },
     "execution_count": 7,
     "metadata": {},
     "output_type": "execute_result"
    }
   ],
   "source": [
    "y=y.values\n",
    "type(y)"
   ]
  },
  {
   "cell_type": "code",
   "execution_count": 8,
   "metadata": {},
   "outputs": [],
   "source": [
    "X=dataset[['R&D Spend', 'Administration', 'Marketing Spend', 'State', 'Profit']]"
   ]
  },
  {
   "cell_type": "code",
   "execution_count": 9,
   "metadata": {},
   "outputs": [
    {
     "data": {
      "text/plain": [
       "(50, 5)"
      ]
     },
     "execution_count": 9,
     "metadata": {},
     "output_type": "execute_result"
    }
   ],
   "source": [
    "X.shape\n"
   ]
  },
  {
   "cell_type": "code",
   "execution_count": 10,
   "metadata": {},
   "outputs": [],
   "source": [
    "from sklearn.linear_model import LinearRegression"
   ]
  },
  {
   "cell_type": "code",
   "execution_count": 11,
   "metadata": {},
   "outputs": [],
   "source": [
    "model=LinearRegression()"
   ]
  },
  {
   "cell_type": "code",
   "execution_count": 12,
   "metadata": {},
   "outputs": [
    {
     "data": {
      "text/plain": [
       "(50,)"
      ]
     },
     "execution_count": 12,
     "metadata": {},
     "output_type": "execute_result"
    }
   ],
   "source": [
    "# model.fit(X,y) will show error because 'State' feature is in string format\n",
    "state=X['State']\n",
    "state.shape\n",
    "# state"
   ]
  },
  {
   "cell_type": "code",
   "execution_count": 13,
   "metadata": {},
   "outputs": [
    {
     "data": {
      "text/plain": [
       "pandas.core.series.Series"
      ]
     },
     "execution_count": 13,
     "metadata": {},
     "output_type": "execute_result"
    }
   ],
   "source": [
    "type(state)"
   ]
  },
  {
   "cell_type": "code",
   "execution_count": 14,
   "metadata": {},
   "outputs": [
    {
     "data": {
      "text/plain": [
       "numpy.ndarray"
      ]
     },
     "execution_count": 14,
     "metadata": {},
     "output_type": "execute_result"
    }
   ],
   "source": [
    "state=state.values\n",
    "type(state)"
   ]
  },
  {
   "cell_type": "code",
   "execution_count": 15,
   "metadata": {},
   "outputs": [
    {
     "data": {
      "text/plain": [
       "(50, 1)"
      ]
     },
     "execution_count": 15,
     "metadata": {},
     "output_type": "execute_result"
    }
   ],
   "source": [
    "state=state.reshape(-1,1)\n",
    "type(state)\n",
    "state.shape"
   ]
  },
  {
   "cell_type": "code",
   "execution_count": 16,
   "metadata": {},
   "outputs": [],
   "source": [
    "# One-hot encoding\n",
    "from sklearn.preprocessing import OneHotEncoder\n",
    "state_ohe=OneHotEncoder()\n",
    "state_ohe=state_ohe.fit_transform(state)"
   ]
  },
  {
   "cell_type": "code",
   "execution_count": 17,
   "metadata": {},
   "outputs": [
    {
     "data": {
      "text/plain": [
       "<50x3 sparse matrix of type '<class 'numpy.float64'>'\n",
       "\twith 50 stored elements in Compressed Sparse Row format>"
      ]
     },
     "execution_count": 17,
     "metadata": {},
     "output_type": "execute_result"
    }
   ],
   "source": [
    "state_ohe"
   ]
  },
  {
   "cell_type": "code",
   "execution_count": 18,
   "metadata": {},
   "outputs": [
    {
     "data": {
      "text/plain": [
       "scipy.sparse.csr.csr_matrix"
      ]
     },
     "execution_count": 18,
     "metadata": {},
     "output_type": "execute_result"
    }
   ],
   "source": [
    "type(state_ohe)"
   ]
  },
  {
   "cell_type": "code",
   "execution_count": 19,
   "metadata": {},
   "outputs": [],
   "source": [
    "state_final=state_ohe.toarray()"
   ]
  },
  {
   "cell_type": "code",
   "execution_count": 20,
   "metadata": {},
   "outputs": [
    {
     "data": {
      "text/plain": [
       "array([[0., 0., 1.],\n",
       "       [1., 0., 0.],\n",
       "       [0., 1., 0.],\n",
       "       [0., 0., 1.],\n",
       "       [0., 1., 0.],\n",
       "       [0., 0., 1.],\n",
       "       [1., 0., 0.],\n",
       "       [0., 1., 0.],\n",
       "       [0., 0., 1.],\n",
       "       [1., 0., 0.],\n",
       "       [0., 1., 0.],\n",
       "       [1., 0., 0.],\n",
       "       [0., 1., 0.],\n",
       "       [1., 0., 0.],\n",
       "       [0., 1., 0.],\n",
       "       [0., 0., 1.],\n",
       "       [1., 0., 0.],\n",
       "       [0., 0., 1.],\n",
       "       [0., 1., 0.],\n",
       "       [0., 0., 1.],\n",
       "       [1., 0., 0.],\n",
       "       [0., 0., 1.],\n",
       "       [0., 1., 0.],\n",
       "       [0., 1., 0.],\n",
       "       [0., 0., 1.],\n",
       "       [1., 0., 0.],\n",
       "       [0., 1., 0.],\n",
       "       [0., 0., 1.],\n",
       "       [0., 1., 0.],\n",
       "       [0., 0., 1.],\n",
       "       [0., 1., 0.],\n",
       "       [0., 0., 1.],\n",
       "       [1., 0., 0.],\n",
       "       [0., 1., 0.],\n",
       "       [1., 0., 0.],\n",
       "       [0., 0., 1.],\n",
       "       [0., 1., 0.],\n",
       "       [1., 0., 0.],\n",
       "       [0., 0., 1.],\n",
       "       [1., 0., 0.],\n",
       "       [1., 0., 0.],\n",
       "       [0., 1., 0.],\n",
       "       [1., 0., 0.],\n",
       "       [0., 0., 1.],\n",
       "       [1., 0., 0.],\n",
       "       [0., 0., 1.],\n",
       "       [0., 1., 0.],\n",
       "       [1., 0., 0.],\n",
       "       [0., 0., 1.],\n",
       "       [1., 0., 0.]])"
      ]
     },
     "execution_count": 20,
     "metadata": {},
     "output_type": "execute_result"
    }
   ],
   "source": [
    "state_final"
   ]
  },
  {
   "cell_type": "code",
   "execution_count": 21,
   "metadata": {},
   "outputs": [
    {
     "data": {
      "text/plain": [
       "array([[0., 0.],\n",
       "       [1., 0.],\n",
       "       [0., 1.],\n",
       "       [0., 0.],\n",
       "       [0., 1.],\n",
       "       [0., 0.],\n",
       "       [1., 0.],\n",
       "       [0., 1.],\n",
       "       [0., 0.],\n",
       "       [1., 0.],\n",
       "       [0., 1.],\n",
       "       [1., 0.],\n",
       "       [0., 1.],\n",
       "       [1., 0.],\n",
       "       [0., 1.],\n",
       "       [0., 0.],\n",
       "       [1., 0.],\n",
       "       [0., 0.],\n",
       "       [0., 1.],\n",
       "       [0., 0.],\n",
       "       [1., 0.],\n",
       "       [0., 0.],\n",
       "       [0., 1.],\n",
       "       [0., 1.],\n",
       "       [0., 0.],\n",
       "       [1., 0.],\n",
       "       [0., 1.],\n",
       "       [0., 0.],\n",
       "       [0., 1.],\n",
       "       [0., 0.],\n",
       "       [0., 1.],\n",
       "       [0., 0.],\n",
       "       [1., 0.],\n",
       "       [0., 1.],\n",
       "       [1., 0.],\n",
       "       [0., 0.],\n",
       "       [0., 1.],\n",
       "       [1., 0.],\n",
       "       [0., 0.],\n",
       "       [1., 0.],\n",
       "       [1., 0.],\n",
       "       [0., 1.],\n",
       "       [1., 0.],\n",
       "       [0., 0.],\n",
       "       [1., 0.],\n",
       "       [0., 0.],\n",
       "       [0., 1.],\n",
       "       [1., 0.],\n",
       "       [0., 0.],\n",
       "       [1., 0.]])"
      ]
     },
     "execution_count": 21,
     "metadata": {},
     "output_type": "execute_result"
    }
   ],
   "source": [
    "# to solve the issue of dummy variable trap\n",
    "state_final=state_final[:, 0:2]\n",
    "state_final"
   ]
  },
  {
   "cell_type": "code",
   "execution_count": 22,
   "metadata": {},
   "outputs": [
    {
     "data": {
      "text/plain": [
       "array([[165349.2, 136897.8, 471784.1],\n",
       "       [162597.7, 151377.59, 443898.53],\n",
       "       [153441.51, 101145.55, 407934.54],\n",
       "       [144372.41, 118671.85, 383199.62],\n",
       "       [142107.34, 91391.77, 366168.42],\n",
       "       [131876.9, 99814.71, 362861.36],\n",
       "       [134615.46, 147198.87, 127716.82],\n",
       "       [130298.13, 145530.06, 323876.68],\n",
       "       [120542.52, 148718.95, 311613.29],\n",
       "       [123334.88, 108679.17, 304981.62],\n",
       "       [101913.08, 110594.11, 229160.95],\n",
       "       [100671.96, 91790.61, 249744.55],\n",
       "       [93863.75, 127320.38, 249839.44],\n",
       "       [91992.39, 135495.07, 252664.93],\n",
       "       [119943.24, 156547.42, 256512.92],\n",
       "       [114523.61, 122616.84, 261776.23],\n",
       "       [78013.11, 121597.55, 264346.06],\n",
       "       [94657.16, 145077.58, 282574.31],\n",
       "       [91749.16, 114175.79, 294919.57],\n",
       "       [86419.7, 153514.11, 0.0],\n",
       "       [76253.86, 113867.3, 298664.47],\n",
       "       [78389.47, 153773.43, 299737.29],\n",
       "       [73994.56, 122782.75, 303319.26],\n",
       "       [67532.53, 105751.03, 304768.73],\n",
       "       [77044.01, 99281.34, 140574.81],\n",
       "       [64664.71, 139553.16, 137962.62],\n",
       "       [75328.87, 144135.98, 134050.07],\n",
       "       [72107.6, 127864.55, 353183.81],\n",
       "       [66051.52, 182645.56, 118148.2],\n",
       "       [65605.48, 153032.06, 107138.38],\n",
       "       [61994.48, 115641.28, 91131.24],\n",
       "       [61136.38, 152701.92, 88218.23],\n",
       "       [63408.86, 129219.61, 46085.25],\n",
       "       [55493.95, 103057.49, 214634.81],\n",
       "       [46426.07, 157693.92, 210797.67],\n",
       "       [46014.02, 85047.44, 205517.64],\n",
       "       [28663.76, 127056.21, 201126.82],\n",
       "       [44069.95, 51283.14, 197029.42],\n",
       "       [20229.59, 65947.93, 185265.1],\n",
       "       [38558.51, 82982.09, 174999.3],\n",
       "       [28754.33, 118546.05, 172795.67],\n",
       "       [27892.92, 84710.77, 164470.71],\n",
       "       [23640.93, 96189.63, 148001.11],\n",
       "       [15505.73, 127382.3, 35534.17],\n",
       "       [22177.74, 154806.14, 28334.72],\n",
       "       [1000.23, 124153.04, 1903.93],\n",
       "       [1315.46, 115816.21, 297114.46],\n",
       "       [0.0, 135426.92, 0.0],\n",
       "       [542.05, 51743.15, 0.0],\n",
       "       [0.0, 116983.8, 45173.06]], dtype=object)"
      ]
     },
     "execution_count": 22,
     "metadata": {},
     "output_type": "execute_result"
    }
   ],
   "source": [
    "X=X.values\n",
    "X=X[:,0:3]\n",
    "X"
   ]
  },
  {
   "cell_type": "code",
   "execution_count": 23,
   "metadata": {},
   "outputs": [
    {
     "data": {
      "text/plain": [
       "array([[165349.2, 136897.8, 471784.1, 0.0, 0.0],\n",
       "       [162597.7, 151377.59, 443898.53, 1.0, 0.0],\n",
       "       [153441.51, 101145.55, 407934.54, 0.0, 1.0],\n",
       "       [144372.41, 118671.85, 383199.62, 0.0, 0.0],\n",
       "       [142107.34, 91391.77, 366168.42, 0.0, 1.0],\n",
       "       [131876.9, 99814.71, 362861.36, 0.0, 0.0],\n",
       "       [134615.46, 147198.87, 127716.82, 1.0, 0.0],\n",
       "       [130298.13, 145530.06, 323876.68, 0.0, 1.0],\n",
       "       [120542.52, 148718.95, 311613.29, 0.0, 0.0],\n",
       "       [123334.88, 108679.17, 304981.62, 1.0, 0.0],\n",
       "       [101913.08, 110594.11, 229160.95, 0.0, 1.0],\n",
       "       [100671.96, 91790.61, 249744.55, 1.0, 0.0],\n",
       "       [93863.75, 127320.38, 249839.44, 0.0, 1.0],\n",
       "       [91992.39, 135495.07, 252664.93, 1.0, 0.0],\n",
       "       [119943.24, 156547.42, 256512.92, 0.0, 1.0],\n",
       "       [114523.61, 122616.84, 261776.23, 0.0, 0.0],\n",
       "       [78013.11, 121597.55, 264346.06, 1.0, 0.0],\n",
       "       [94657.16, 145077.58, 282574.31, 0.0, 0.0],\n",
       "       [91749.16, 114175.79, 294919.57, 0.0, 1.0],\n",
       "       [86419.7, 153514.11, 0.0, 0.0, 0.0],\n",
       "       [76253.86, 113867.3, 298664.47, 1.0, 0.0],\n",
       "       [78389.47, 153773.43, 299737.29, 0.0, 0.0],\n",
       "       [73994.56, 122782.75, 303319.26, 0.0, 1.0],\n",
       "       [67532.53, 105751.03, 304768.73, 0.0, 1.0],\n",
       "       [77044.01, 99281.34, 140574.81, 0.0, 0.0],\n",
       "       [64664.71, 139553.16, 137962.62, 1.0, 0.0],\n",
       "       [75328.87, 144135.98, 134050.07, 0.0, 1.0],\n",
       "       [72107.6, 127864.55, 353183.81, 0.0, 0.0],\n",
       "       [66051.52, 182645.56, 118148.2, 0.0, 1.0],\n",
       "       [65605.48, 153032.06, 107138.38, 0.0, 0.0],\n",
       "       [61994.48, 115641.28, 91131.24, 0.0, 1.0],\n",
       "       [61136.38, 152701.92, 88218.23, 0.0, 0.0],\n",
       "       [63408.86, 129219.61, 46085.25, 1.0, 0.0],\n",
       "       [55493.95, 103057.49, 214634.81, 0.0, 1.0],\n",
       "       [46426.07, 157693.92, 210797.67, 1.0, 0.0],\n",
       "       [46014.02, 85047.44, 205517.64, 0.0, 0.0],\n",
       "       [28663.76, 127056.21, 201126.82, 0.0, 1.0],\n",
       "       [44069.95, 51283.14, 197029.42, 1.0, 0.0],\n",
       "       [20229.59, 65947.93, 185265.1, 0.0, 0.0],\n",
       "       [38558.51, 82982.09, 174999.3, 1.0, 0.0],\n",
       "       [28754.33, 118546.05, 172795.67, 1.0, 0.0],\n",
       "       [27892.92, 84710.77, 164470.71, 0.0, 1.0],\n",
       "       [23640.93, 96189.63, 148001.11, 1.0, 0.0],\n",
       "       [15505.73, 127382.3, 35534.17, 0.0, 0.0],\n",
       "       [22177.74, 154806.14, 28334.72, 1.0, 0.0],\n",
       "       [1000.23, 124153.04, 1903.93, 0.0, 0.0],\n",
       "       [1315.46, 115816.21, 297114.46, 0.0, 1.0],\n",
       "       [0.0, 135426.92, 0.0, 1.0, 0.0],\n",
       "       [542.05, 51743.15, 0.0, 0.0, 0.0],\n",
       "       [0.0, 116983.8, 45173.06, 1.0, 0.0]], dtype=object)"
      ]
     },
     "execution_count": 23,
     "metadata": {},
     "output_type": "execute_result"
    }
   ],
   "source": [
    "#creating horizontal stack\n",
    "X_final=np.hstack((X,state_final))\n",
    "X_final"
   ]
  },
  {
   "cell_type": "code",
   "execution_count": 24,
   "metadata": {},
   "outputs": [
    {
     "data": {
      "text/plain": [
       "LinearRegression()"
      ]
     },
     "execution_count": 24,
     "metadata": {},
     "output_type": "execute_result"
    }
   ],
   "source": [
    "model.fit(X_final,y)"
   ]
  },
  {
   "cell_type": "code",
   "execution_count": 25,
   "metadata": {},
   "outputs": [
    {
     "data": {
      "text/plain": [
       "array([ 8.06023114e-01, -2.70043196e-02,  2.69798610e-02,  4.18870191e+01,\n",
       "        2.40675812e+02])"
      ]
     },
     "execution_count": 25,
     "metadata": {},
     "output_type": "execute_result"
    }
   ],
   "source": [
    "model.coef_"
   ]
  },
  {
   "cell_type": "code",
   "execution_count": null,
   "metadata": {},
   "outputs": [],
   "source": []
  }
 ],
 "metadata": {
  "kernelspec": {
   "display_name": "Python 3",
   "language": "python",
   "name": "python3"
  },
  "language_info": {
   "codemirror_mode": {
    "name": "ipython",
    "version": 3
   },
   "file_extension": ".py",
   "mimetype": "text/x-python",
   "name": "python",
   "nbconvert_exporter": "python",
   "pygments_lexer": "ipython3",
   "version": "3.8.3"
  }
 },
 "nbformat": 4,
 "nbformat_minor": 4
}
